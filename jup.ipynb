{
 "cells": [
  {
   "cell_type": "code",
   "execution_count": null,
   "id": "b571dee4-87e0-4d9f-8fb0-8fef1d5d9946",
   "metadata": {},
   "outputs": [],
   "source": [
    "import cv2\n",
    "import numpy\n"
   ]
  },
  {
   "cell_type": "code",
   "execution_count": null,
   "id": "5807df64-7e12-4492-9810-f7879361b096",
   "metadata": {},
   "outputs": [],
   "source": [
    "#reading an image\n",
    "img = cv2.imread(\"img/fruits.png\")\n",
    "'''\n",
    "#to show the type of image - that is - numpy array\n",
    "print(type(img))\n",
    "\n",
    "#to show the shape of the image\n",
    "print(img.shape)\n",
    "\n",
    "#to know the size fo the image\n",
    "print(img.size)\n",
    "'''\n",
    "img_gray = cv2.cvtColor(img, cv2.COLOR_BGR2GRAY)\n",
    "print(img_gray.shape)\n",
    "\n",
    "#cv2.imshow(\"window\", img)\n",
    "cv2.imshow(\"window\", img_gray)\n",
    "cv2.waitKey(0)"
   ]
  },
  {
   "cell_type": "code",
   "execution_count": null,
   "id": "a32d5a23-1a06-4dca-b751-38b11576e582",
   "metadata": {},
   "outputs": [],
   "source": []
  }
 ],
 "metadata": {
  "kernelspec": {
   "display_name": "Python 3 (ipykernel)",
   "language": "python",
   "name": "python3"
  },
  "language_info": {
   "codemirror_mode": {
    "name": "ipython",
    "version": 3
   },
   "file_extension": ".py",
   "mimetype": "text/x-python",
   "name": "python",
   "nbconvert_exporter": "python",
   "pygments_lexer": "ipython3",
   "version": "3.11.6"
  }
 },
 "nbformat": 4,
 "nbformat_minor": 5
}
